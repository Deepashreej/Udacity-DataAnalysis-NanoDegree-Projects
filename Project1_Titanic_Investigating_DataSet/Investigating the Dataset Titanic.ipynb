{
 "cells": [
  {
   "cell_type": "markdown",
   "metadata": {},
   "source": [
    "#  TITANIC DATASET ANALYSIS"
   ]
  },
  {
   "cell_type": "raw",
   "metadata": {
    "scrolled": true
   },
   "source": [
    "#Defining the style of this notebook to be centered plot and increaasing the font of the text cells\n",
    "from IPython.core.display import HTML\n",
    "HTML(\n",
    "<style>\n",
    "\n",
    ".output_png {\n",
    "    display: table-cell;\n",
    "    text-align: center;\n",
    "    vertical-align: middle;\n",
    "}\n",
    "\n",
    "div.text_cell_render { /* Customize text cells */\n",
    "font-family: 'Times New Roman';\n",
    "font-size:1.6em;\n",
    "line-height:1.4em;\n",
    "padding-left:3em;\n",
    "padding-right:3em;\n",
    "}\n",
    "\n",
    "</style>\n",
    ")"
   ]
  },
  {
   "cell_type": "markdown",
   "metadata": {},
   "source": [
    "##### Importing required libraries"
   ]
  },
  {
   "cell_type": "code",
   "execution_count": 458,
   "metadata": {
    "scrolled": false
   },
   "outputs": [
    {
     "name": "stdout",
     "output_type": "stream",
     "text": [
      "Populating the interactive namespace from numpy and matplotlib\n"
     ]
    }
   ],
   "source": [
    "# remove warnings\n",
    "import warnings\n",
    "warnings.filterwarnings('ignore')\n",
    "# ---\n",
    "#Importing the required libraries\n",
    "import pandas as pd\n",
    "import numpy as np\n",
    "pd.options.display.max_columns = 100\n",
    "import matplotlib.pyplot as plt\n",
    "import seaborn as sns\n",
    "%matplotlib inline\n",
    "%pylab inline\n",
    "pd.options.display.max_rows = 100"
   ]
  },
  {
   "cell_type": "markdown",
   "metadata": {},
   "source": [
    "## DATA ACQUISITION"
   ]
  },
  {
   "cell_type": "code",
   "execution_count": 459,
   "metadata": {
    "collapsed": true,
    "scrolled": false
   },
   "outputs": [],
   "source": [
    "titanic_data = pd.read_csv(r'C:\\Users\\Deepa\\Downloads\\titanic-data.csv')# Importing the data frame\n"
   ]
  },
  {
   "cell_type": "code",
   "execution_count": 460,
   "metadata": {
    "scrolled": false
   },
   "outputs": [
    {
     "data": {
      "text/html": [
       "<div>\n",
       "<style>\n",
       "    .dataframe thead tr:only-child th {\n",
       "        text-align: right;\n",
       "    }\n",
       "\n",
       "    .dataframe thead th {\n",
       "        text-align: left;\n",
       "    }\n",
       "\n",
       "    .dataframe tbody tr th {\n",
       "        vertical-align: top;\n",
       "    }\n",
       "</style>\n",
       "<table border=\"1\" class=\"dataframe\">\n",
       "  <thead>\n",
       "    <tr style=\"text-align: right;\">\n",
       "      <th></th>\n",
       "      <th>PassengerId</th>\n",
       "      <th>Survived</th>\n",
       "      <th>Pclass</th>\n",
       "      <th>Name</th>\n",
       "      <th>Sex</th>\n",
       "      <th>Age</th>\n",
       "      <th>SibSp</th>\n",
       "      <th>Parch</th>\n",
       "      <th>Ticket</th>\n",
       "      <th>Fare</th>\n",
       "      <th>Cabin</th>\n",
       "      <th>Embarked</th>\n",
       "    </tr>\n",
       "  </thead>\n",
       "  <tbody>\n",
       "    <tr>\n",
       "      <th>0</th>\n",
       "      <td>1</td>\n",
       "      <td>0</td>\n",
       "      <td>3</td>\n",
       "      <td>Braund, Mr. Owen Harris</td>\n",
       "      <td>male</td>\n",
       "      <td>22.0</td>\n",
       "      <td>1</td>\n",
       "      <td>0</td>\n",
       "      <td>A/5 21171</td>\n",
       "      <td>7.2500</td>\n",
       "      <td>NaN</td>\n",
       "      <td>S</td>\n",
       "    </tr>\n",
       "    <tr>\n",
       "      <th>1</th>\n",
       "      <td>2</td>\n",
       "      <td>1</td>\n",
       "      <td>1</td>\n",
       "      <td>Cumings, Mrs. John Bradley (Florence Briggs Th...</td>\n",
       "      <td>female</td>\n",
       "      <td>38.0</td>\n",
       "      <td>1</td>\n",
       "      <td>0</td>\n",
       "      <td>PC 17599</td>\n",
       "      <td>71.2833</td>\n",
       "      <td>C85</td>\n",
       "      <td>C</td>\n",
       "    </tr>\n",
       "    <tr>\n",
       "      <th>2</th>\n",
       "      <td>3</td>\n",
       "      <td>1</td>\n",
       "      <td>3</td>\n",
       "      <td>Heikkinen, Miss. Laina</td>\n",
       "      <td>female</td>\n",
       "      <td>26.0</td>\n",
       "      <td>0</td>\n",
       "      <td>0</td>\n",
       "      <td>STON/O2. 3101282</td>\n",
       "      <td>7.9250</td>\n",
       "      <td>NaN</td>\n",
       "      <td>S</td>\n",
       "    </tr>\n",
       "    <tr>\n",
       "      <th>3</th>\n",
       "      <td>4</td>\n",
       "      <td>1</td>\n",
       "      <td>1</td>\n",
       "      <td>Futrelle, Mrs. Jacques Heath (Lily May Peel)</td>\n",
       "      <td>female</td>\n",
       "      <td>35.0</td>\n",
       "      <td>1</td>\n",
       "      <td>0</td>\n",
       "      <td>113803</td>\n",
       "      <td>53.1000</td>\n",
       "      <td>C123</td>\n",
       "      <td>S</td>\n",
       "    </tr>\n",
       "    <tr>\n",
       "      <th>4</th>\n",
       "      <td>5</td>\n",
       "      <td>0</td>\n",
       "      <td>3</td>\n",
       "      <td>Allen, Mr. William Henry</td>\n",
       "      <td>male</td>\n",
       "      <td>35.0</td>\n",
       "      <td>0</td>\n",
       "      <td>0</td>\n",
       "      <td>373450</td>\n",
       "      <td>8.0500</td>\n",
       "      <td>NaN</td>\n",
       "      <td>S</td>\n",
       "    </tr>\n",
       "  </tbody>\n",
       "</table>\n",
       "</div>"
      ],
      "text/plain": [
       "   PassengerId  Survived  Pclass  \\\n",
       "0            1         0       3   \n",
       "1            2         1       1   \n",
       "2            3         1       3   \n",
       "3            4         1       1   \n",
       "4            5         0       3   \n",
       "\n",
       "                                                Name     Sex   Age  SibSp  \\\n",
       "0                            Braund, Mr. Owen Harris    male  22.0      1   \n",
       "1  Cumings, Mrs. John Bradley (Florence Briggs Th...  female  38.0      1   \n",
       "2                             Heikkinen, Miss. Laina  female  26.0      0   \n",
       "3       Futrelle, Mrs. Jacques Heath (Lily May Peel)  female  35.0      1   \n",
       "4                           Allen, Mr. William Henry    male  35.0      0   \n",
       "\n",
       "   Parch            Ticket     Fare Cabin Embarked  \n",
       "0      0         A/5 21171   7.2500   NaN        S  \n",
       "1      0          PC 17599  71.2833   C85        C  \n",
       "2      0  STON/O2. 3101282   7.9250   NaN        S  \n",
       "3      0            113803  53.1000  C123        S  \n",
       "4      0            373450   8.0500   NaN        S  "
      ]
     },
     "execution_count": 460,
     "metadata": {},
     "output_type": "execute_result"
    }
   ],
   "source": [
    "# Checking if the data has been loaded and taking a peek at the dataframe.\n",
    "titanic_data.head()"
   ]
  },
  {
   "cell_type": "code",
   "execution_count": 461,
   "metadata": {
    "scrolled": false
   },
   "outputs": [
    {
     "data": {
      "text/html": [
       "<div>\n",
       "<style>\n",
       "    .dataframe thead tr:only-child th {\n",
       "        text-align: right;\n",
       "    }\n",
       "\n",
       "    .dataframe thead th {\n",
       "        text-align: left;\n",
       "    }\n",
       "\n",
       "    .dataframe tbody tr th {\n",
       "        vertical-align: top;\n",
       "    }\n",
       "</style>\n",
       "<table border=\"1\" class=\"dataframe\">\n",
       "  <thead>\n",
       "    <tr style=\"text-align: right;\">\n",
       "      <th></th>\n",
       "      <th>PassengerId</th>\n",
       "      <th>Survived</th>\n",
       "      <th>Pclass</th>\n",
       "      <th>Name</th>\n",
       "      <th>Sex</th>\n",
       "      <th>Age</th>\n",
       "      <th>SibSp</th>\n",
       "      <th>Parch</th>\n",
       "      <th>Ticket</th>\n",
       "      <th>Fare</th>\n",
       "      <th>Cabin</th>\n",
       "      <th>Embarked</th>\n",
       "    </tr>\n",
       "  </thead>\n",
       "  <tbody>\n",
       "    <tr>\n",
       "      <th>886</th>\n",
       "      <td>887</td>\n",
       "      <td>0</td>\n",
       "      <td>2</td>\n",
       "      <td>Montvila, Rev. Juozas</td>\n",
       "      <td>male</td>\n",
       "      <td>27.0</td>\n",
       "      <td>0</td>\n",
       "      <td>0</td>\n",
       "      <td>211536</td>\n",
       "      <td>13.00</td>\n",
       "      <td>NaN</td>\n",
       "      <td>S</td>\n",
       "    </tr>\n",
       "    <tr>\n",
       "      <th>887</th>\n",
       "      <td>888</td>\n",
       "      <td>1</td>\n",
       "      <td>1</td>\n",
       "      <td>Graham, Miss. Margaret Edith</td>\n",
       "      <td>female</td>\n",
       "      <td>19.0</td>\n",
       "      <td>0</td>\n",
       "      <td>0</td>\n",
       "      <td>112053</td>\n",
       "      <td>30.00</td>\n",
       "      <td>B42</td>\n",
       "      <td>S</td>\n",
       "    </tr>\n",
       "    <tr>\n",
       "      <th>888</th>\n",
       "      <td>889</td>\n",
       "      <td>0</td>\n",
       "      <td>3</td>\n",
       "      <td>Johnston, Miss. Catherine Helen \"Carrie\"</td>\n",
       "      <td>female</td>\n",
       "      <td>NaN</td>\n",
       "      <td>1</td>\n",
       "      <td>2</td>\n",
       "      <td>W./C. 6607</td>\n",
       "      <td>23.45</td>\n",
       "      <td>NaN</td>\n",
       "      <td>S</td>\n",
       "    </tr>\n",
       "    <tr>\n",
       "      <th>889</th>\n",
       "      <td>890</td>\n",
       "      <td>1</td>\n",
       "      <td>1</td>\n",
       "      <td>Behr, Mr. Karl Howell</td>\n",
       "      <td>male</td>\n",
       "      <td>26.0</td>\n",
       "      <td>0</td>\n",
       "      <td>0</td>\n",
       "      <td>111369</td>\n",
       "      <td>30.00</td>\n",
       "      <td>C148</td>\n",
       "      <td>C</td>\n",
       "    </tr>\n",
       "    <tr>\n",
       "      <th>890</th>\n",
       "      <td>891</td>\n",
       "      <td>0</td>\n",
       "      <td>3</td>\n",
       "      <td>Dooley, Mr. Patrick</td>\n",
       "      <td>male</td>\n",
       "      <td>32.0</td>\n",
       "      <td>0</td>\n",
       "      <td>0</td>\n",
       "      <td>370376</td>\n",
       "      <td>7.75</td>\n",
       "      <td>NaN</td>\n",
       "      <td>Q</td>\n",
       "    </tr>\n",
       "  </tbody>\n",
       "</table>\n",
       "</div>"
      ],
      "text/plain": [
       "     PassengerId  Survived  Pclass                                      Name  \\\n",
       "886          887         0       2                     Montvila, Rev. Juozas   \n",
       "887          888         1       1              Graham, Miss. Margaret Edith   \n",
       "888          889         0       3  Johnston, Miss. Catherine Helen \"Carrie\"   \n",
       "889          890         1       1                     Behr, Mr. Karl Howell   \n",
       "890          891         0       3                       Dooley, Mr. Patrick   \n",
       "\n",
       "        Sex   Age  SibSp  Parch      Ticket   Fare Cabin Embarked  \n",
       "886    male  27.0      0      0      211536  13.00   NaN        S  \n",
       "887  female  19.0      0      0      112053  30.00   B42        S  \n",
       "888  female   NaN      1      2  W./C. 6607  23.45   NaN        S  \n",
       "889    male  26.0      0      0      111369  30.00  C148        C  \n",
       "890    male  32.0      0      0      370376   7.75   NaN        Q  "
      ]
     },
     "execution_count": 461,
     "metadata": {},
     "output_type": "execute_result"
    }
   ],
   "source": [
    "titanic_data.tail()# printing the last 5 records of the dataframe"
   ]
  },
  {
   "cell_type": "markdown",
   "metadata": {},
   "source": [
    "__Data Description__\n",
    "\n",
    "(from https://www.kaggle.com/c/titanic)\n",
    "\n",
    "-  survived: Survival (0 = Dead; 1 = Survived)\n",
    "-  pclass: Passenger Class (1 = 1st; 2 = 2nd; 3 = 3rd)\n",
    "-  name: Name\n",
    "-  sex: Sex\n",
    "-  age: Age\n",
    "-  sibsp: Number of Siblings/Spouses Aboard\n",
    "-  parch: Number of Parents/Children Aboard\n",
    "-  ticket: Ticket Number\n",
    "-  fare: Passenger Fare\n",
    "-  cabin: Cabin\n",
    "-  embarked: Port of Embarkation (C = Cherbourg; Q = Queenstown; S = Southampton)\n",
    "\n",
    "_Special Notes:_\n",
    "\n",
    "Pclass is a proxy for socio-economic status (SES) 1st ~ Upper; 2nd ~ Middle; 3rd ~ Lower\n",
    "\n",
    "Age is in Years; Fractional if Age less than One (1) If the Age is Estimated, it is in the form xx.5\n",
    "\n",
    "With respect to the family relation variables (i.e. sibsp and parch) some relations were ignored. The following are the definitions used for sibsp and parch.\n",
    "Sibling: Brother, Sister, Stepbrother, or Stepsister of Passenger Aboard Titanic\n",
    "Spouse: Husband or Wife of Passenger Aboard Titanic (Mistresses and Fiances Ignored)\n",
    "Parent: Mother or Father of Passenger Aboard Titanic\n",
    "Child: Son, Daughter, Stepson, or Stepdaughter of Passenger Aboard Titanic\n",
    "\n",
    " "
   ]
  },
  {
   "cell_type": "markdown",
   "metadata": {},
   "source": [
    "### Questions that will be analysed :"
   ]
  },
  {
   "cell_type": "markdown",
   "metadata": {},
   "source": [
    "*  Q1. Did the crew abide by the common rule, \"Women and Children first\" while giving access to life boats of the sinking ship?\n",
    "*  Q2. Did the First Class passengers use their socio-economical influence in getting access to the life boats prior to passengers of other classes\n",
    "*  Q3. Which class of people travelled and who survived from each region of Embarkment?"
   ]
  },
  {
   "cell_type": "markdown",
   "metadata": {},
   "source": [
    "### DATA CLEANING (and modifications as necessary)"
   ]
  },
  {
   "cell_type": "markdown",
   "metadata": {},
   "source": [
    "#### 1. Checking for duplicate rows, for duplicate data may alter the accuracy of the results"
   ]
  },
  {
   "cell_type": "code",
   "execution_count": 462,
   "metadata": {
    "scrolled": false
   },
   "outputs": [
    {
     "name": "stdout",
     "output_type": "stream",
     "text": [
      "Number of duplicate entries are 0\n"
     ]
    }
   ],
   "source": [
    "# Identify and remove duplicate entries\n",
    "titanic_data_duplicate_entry = titanic_data.duplicated()\n",
    "print ('Number of duplicate entries are {}'.format(titanic_data_duplicate_entry.sum()))"
   ]
  },
  {
   "cell_type": "markdown",
   "metadata": {},
   "source": [
    "So, there are not any duplicate values in the dataframe."
   ]
  },
  {
   "cell_type": "code",
   "execution_count": 463,
   "metadata": {
    "scrolled": true
   },
   "outputs": [
    {
     "data": {
      "text/html": [
       "<div>\n",
       "<style>\n",
       "    .dataframe thead tr:only-child th {\n",
       "        text-align: right;\n",
       "    }\n",
       "\n",
       "    .dataframe thead th {\n",
       "        text-align: left;\n",
       "    }\n",
       "\n",
       "    .dataframe tbody tr th {\n",
       "        vertical-align: top;\n",
       "    }\n",
       "</style>\n",
       "<table border=\"1\" class=\"dataframe\">\n",
       "  <thead>\n",
       "    <tr style=\"text-align: right;\">\n",
       "      <th></th>\n",
       "      <th>PassengerId</th>\n",
       "      <th>Survived</th>\n",
       "      <th>Pclass</th>\n",
       "      <th>Age</th>\n",
       "      <th>SibSp</th>\n",
       "      <th>Parch</th>\n",
       "      <th>Fare</th>\n",
       "    </tr>\n",
       "  </thead>\n",
       "  <tbody>\n",
       "    <tr>\n",
       "      <th>count</th>\n",
       "      <td>891.000000</td>\n",
       "      <td>891.000000</td>\n",
       "      <td>891.000000</td>\n",
       "      <td>714.000000</td>\n",
       "      <td>891.000000</td>\n",
       "      <td>891.000000</td>\n",
       "      <td>891.000000</td>\n",
       "    </tr>\n",
       "    <tr>\n",
       "      <th>mean</th>\n",
       "      <td>446.000000</td>\n",
       "      <td>0.383838</td>\n",
       "      <td>2.308642</td>\n",
       "      <td>29.699118</td>\n",
       "      <td>0.523008</td>\n",
       "      <td>0.381594</td>\n",
       "      <td>32.204208</td>\n",
       "    </tr>\n",
       "    <tr>\n",
       "      <th>std</th>\n",
       "      <td>257.353842</td>\n",
       "      <td>0.486592</td>\n",
       "      <td>0.836071</td>\n",
       "      <td>14.526497</td>\n",
       "      <td>1.102743</td>\n",
       "      <td>0.806057</td>\n",
       "      <td>49.693429</td>\n",
       "    </tr>\n",
       "    <tr>\n",
       "      <th>min</th>\n",
       "      <td>1.000000</td>\n",
       "      <td>0.000000</td>\n",
       "      <td>1.000000</td>\n",
       "      <td>0.420000</td>\n",
       "      <td>0.000000</td>\n",
       "      <td>0.000000</td>\n",
       "      <td>0.000000</td>\n",
       "    </tr>\n",
       "    <tr>\n",
       "      <th>25%</th>\n",
       "      <td>223.500000</td>\n",
       "      <td>0.000000</td>\n",
       "      <td>2.000000</td>\n",
       "      <td>20.125000</td>\n",
       "      <td>0.000000</td>\n",
       "      <td>0.000000</td>\n",
       "      <td>7.910400</td>\n",
       "    </tr>\n",
       "    <tr>\n",
       "      <th>50%</th>\n",
       "      <td>446.000000</td>\n",
       "      <td>0.000000</td>\n",
       "      <td>3.000000</td>\n",
       "      <td>28.000000</td>\n",
       "      <td>0.000000</td>\n",
       "      <td>0.000000</td>\n",
       "      <td>14.454200</td>\n",
       "    </tr>\n",
       "    <tr>\n",
       "      <th>75%</th>\n",
       "      <td>668.500000</td>\n",
       "      <td>1.000000</td>\n",
       "      <td>3.000000</td>\n",
       "      <td>38.000000</td>\n",
       "      <td>1.000000</td>\n",
       "      <td>0.000000</td>\n",
       "      <td>31.000000</td>\n",
       "    </tr>\n",
       "    <tr>\n",
       "      <th>max</th>\n",
       "      <td>891.000000</td>\n",
       "      <td>1.000000</td>\n",
       "      <td>3.000000</td>\n",
       "      <td>80.000000</td>\n",
       "      <td>8.000000</td>\n",
       "      <td>6.000000</td>\n",
       "      <td>512.329200</td>\n",
       "    </tr>\n",
       "  </tbody>\n",
       "</table>\n",
       "</div>"
      ],
      "text/plain": [
       "       PassengerId    Survived      Pclass         Age       SibSp  \\\n",
       "count   891.000000  891.000000  891.000000  714.000000  891.000000   \n",
       "mean    446.000000    0.383838    2.308642   29.699118    0.523008   \n",
       "std     257.353842    0.486592    0.836071   14.526497    1.102743   \n",
       "min       1.000000    0.000000    1.000000    0.420000    0.000000   \n",
       "25%     223.500000    0.000000    2.000000   20.125000    0.000000   \n",
       "50%     446.000000    0.000000    3.000000   28.000000    0.000000   \n",
       "75%     668.500000    1.000000    3.000000   38.000000    1.000000   \n",
       "max     891.000000    1.000000    3.000000   80.000000    8.000000   \n",
       "\n",
       "            Parch        Fare  \n",
       "count  891.000000  891.000000  \n",
       "mean     0.381594   32.204208  \n",
       "std      0.806057   49.693429  \n",
       "min      0.000000    0.000000  \n",
       "25%      0.000000    7.910400  \n",
       "50%      0.000000   14.454200  \n",
       "75%      0.000000   31.000000  \n",
       "max      6.000000  512.329200  "
      ]
     },
     "execution_count": 463,
     "metadata": {},
     "output_type": "execute_result"
    }
   ],
   "source": [
    "\"\"\" The Following built-in function results in a table with values for Mean, Minimum value, Maximum value, \n",
    "etc for all numerical variables in the data frame \"\"\"\n",
    "titanic_data.describe()"
   ]
  },
  {
   "cell_type": "markdown",
   "metadata": {},
   "source": [
    "The following interpretations can be made looking at the above data.\n",
    "-  The mean age of the passengers travelling was 29.7 with minimum age 0.42 and maximum age 80 years.\n",
    "-  38% of the passengers survived.\n",
    "-  More than 50% of the Passengers in the dataframe are 3rd class passengers.\n",
    "-  The fare seems to have values with 0 indicating possibility of some free tickets!! (Error or free tickets given to some esteemed Crew members or Influencial people)\n",
    "On the other hand, 512 is a possible outlier.\n",
    "-  75% of the Fare prices were closer to the Average fare, making the upper class passengers lesser in number.\n"
   ]
  },
  {
   "cell_type": "markdown",
   "metadata": {},
   "source": [
    "#### 2. Removing columns that are not used in this analysis"
   ]
  },
  {
   "cell_type": "code",
   "execution_count": 464,
   "metadata": {
    "scrolled": false
   },
   "outputs": [
    {
     "data": {
      "text/html": [
       "<div>\n",
       "<style>\n",
       "    .dataframe thead tr:only-child th {\n",
       "        text-align: right;\n",
       "    }\n",
       "\n",
       "    .dataframe thead th {\n",
       "        text-align: left;\n",
       "    }\n",
       "\n",
       "    .dataframe tbody tr th {\n",
       "        vertical-align: top;\n",
       "    }\n",
       "</style>\n",
       "<table border=\"1\" class=\"dataframe\">\n",
       "  <thead>\n",
       "    <tr style=\"text-align: right;\">\n",
       "      <th></th>\n",
       "      <th>PassengerId</th>\n",
       "      <th>Survived</th>\n",
       "      <th>Pclass</th>\n",
       "      <th>Sex</th>\n",
       "      <th>Age</th>\n",
       "      <th>Embarked</th>\n",
       "    </tr>\n",
       "  </thead>\n",
       "  <tbody>\n",
       "    <tr>\n",
       "      <th>0</th>\n",
       "      <td>1</td>\n",
       "      <td>0</td>\n",
       "      <td>3</td>\n",
       "      <td>male</td>\n",
       "      <td>22.0</td>\n",
       "      <td>S</td>\n",
       "    </tr>\n",
       "    <tr>\n",
       "      <th>1</th>\n",
       "      <td>2</td>\n",
       "      <td>1</td>\n",
       "      <td>1</td>\n",
       "      <td>female</td>\n",
       "      <td>38.0</td>\n",
       "      <td>C</td>\n",
       "    </tr>\n",
       "    <tr>\n",
       "      <th>2</th>\n",
       "      <td>3</td>\n",
       "      <td>1</td>\n",
       "      <td>3</td>\n",
       "      <td>female</td>\n",
       "      <td>26.0</td>\n",
       "      <td>S</td>\n",
       "    </tr>\n",
       "    <tr>\n",
       "      <th>3</th>\n",
       "      <td>4</td>\n",
       "      <td>1</td>\n",
       "      <td>1</td>\n",
       "      <td>female</td>\n",
       "      <td>35.0</td>\n",
       "      <td>S</td>\n",
       "    </tr>\n",
       "    <tr>\n",
       "      <th>4</th>\n",
       "      <td>5</td>\n",
       "      <td>0</td>\n",
       "      <td>3</td>\n",
       "      <td>male</td>\n",
       "      <td>35.0</td>\n",
       "      <td>S</td>\n",
       "    </tr>\n",
       "  </tbody>\n",
       "</table>\n",
       "</div>"
      ],
      "text/plain": [
       "   PassengerId  Survived  Pclass     Sex   Age Embarked\n",
       "0            1         0       3    male  22.0        S\n",
       "1            2         1       1  female  38.0        C\n",
       "2            3         1       3  female  26.0        S\n",
       "3            4         1       1  female  35.0        S\n",
       "4            5         0       3    male  35.0        S"
      ]
     },
     "execution_count": 464,
     "metadata": {},
     "output_type": "execute_result"
    }
   ],
   "source": [
    "# Create new dataset with only required column names for this analysis\n",
    "titanic_data_new = titanic_data.drop(['Name','Ticket','Cabin','Fare','SibSp','Parch'], axis=1)\n",
    "titanic_data_new.head()# Displays the first 5 rows of the dataframe"
   ]
  },
  {
   "cell_type": "markdown",
   "metadata": {},
   "source": [
    "#### 3. Populating the missing values for more accurate analysis"
   ]
  },
  {
   "cell_type": "code",
   "execution_count": 465,
   "metadata": {
    "scrolled": false
   },
   "outputs": [
    {
     "name": "stdout",
     "output_type": "stream",
     "text": [
      "<class 'pandas.core.frame.DataFrame'>\n",
      "RangeIndex: 891 entries, 0 to 890\n",
      "Data columns (total 6 columns):\n",
      "PassengerId    891 non-null int64\n",
      "Survived       891 non-null int64\n",
      "Pclass         891 non-null int64\n",
      "Sex            891 non-null object\n",
      "Age            714 non-null float64\n",
      "Embarked       889 non-null object\n",
      "dtypes: float64(1), int64(3), object(2)\n",
      "memory usage: 41.8+ KB\n"
     ]
    }
   ],
   "source": [
    "\"\"\"This built-in function gives the information of the dataframe.  Total number of columns and total count of all the values \n",
    "for each column and their data types\"\"\"\n",
    "titanic_data_new.info()"
   ]
  },
  {
   "cell_type": "markdown",
   "metadata": {},
   "source": [
    "-  There are about 177 passengers with out their Age entered in the dataset. Dropping these passengers might not be favourable for the analysis as it is almost 20% of the data.\n",
    "So, let us take the median of the Ages across the passengers to fill up the blanks. (Median value is more robust to outliers than the Mean value.)\n",
    "-  There are two passengers with out their port of Embarkment. I shall remove these records later in the Analysis.  "
   ]
  },
  {
   "cell_type": "code",
   "execution_count": 466,
   "metadata": {
    "scrolled": false
   },
   "outputs": [
    {
     "data": {
      "text/plain": [
       "28.0"
      ]
     },
     "execution_count": 466,
     "metadata": {},
     "output_type": "execute_result"
    }
   ],
   "source": [
    "titanic_data_new['Age'].median()# Usage of bult-in function that results in the Median of the Values for the variable,'Age'"
   ]
  },
  {
   "cell_type": "code",
   "execution_count": 467,
   "metadata": {
    "scrolled": true
   },
   "outputs": [
    {
     "data": {
      "text/html": [
       "<div>\n",
       "<style>\n",
       "    .dataframe thead tr:only-child th {\n",
       "        text-align: right;\n",
       "    }\n",
       "\n",
       "    .dataframe thead th {\n",
       "        text-align: left;\n",
       "    }\n",
       "\n",
       "    .dataframe tbody tr th {\n",
       "        vertical-align: top;\n",
       "    }\n",
       "</style>\n",
       "<table border=\"1\" class=\"dataframe\">\n",
       "  <thead>\n",
       "    <tr style=\"text-align: right;\">\n",
       "      <th></th>\n",
       "      <th>PassengerId</th>\n",
       "      <th>Survived</th>\n",
       "      <th>Pclass</th>\n",
       "      <th>Age</th>\n",
       "    </tr>\n",
       "  </thead>\n",
       "  <tbody>\n",
       "    <tr>\n",
       "      <th>count</th>\n",
       "      <td>891.000000</td>\n",
       "      <td>891.000000</td>\n",
       "      <td>891.000000</td>\n",
       "      <td>714.000000</td>\n",
       "    </tr>\n",
       "    <tr>\n",
       "      <th>mean</th>\n",
       "      <td>446.000000</td>\n",
       "      <td>0.383838</td>\n",
       "      <td>2.308642</td>\n",
       "      <td>29.699118</td>\n",
       "    </tr>\n",
       "    <tr>\n",
       "      <th>std</th>\n",
       "      <td>257.353842</td>\n",
       "      <td>0.486592</td>\n",
       "      <td>0.836071</td>\n",
       "      <td>14.526497</td>\n",
       "    </tr>\n",
       "    <tr>\n",
       "      <th>min</th>\n",
       "      <td>1.000000</td>\n",
       "      <td>0.000000</td>\n",
       "      <td>1.000000</td>\n",
       "      <td>0.420000</td>\n",
       "    </tr>\n",
       "    <tr>\n",
       "      <th>25%</th>\n",
       "      <td>223.500000</td>\n",
       "      <td>0.000000</td>\n",
       "      <td>2.000000</td>\n",
       "      <td>20.125000</td>\n",
       "    </tr>\n",
       "    <tr>\n",
       "      <th>50%</th>\n",
       "      <td>446.000000</td>\n",
       "      <td>0.000000</td>\n",
       "      <td>3.000000</td>\n",
       "      <td>28.000000</td>\n",
       "    </tr>\n",
       "    <tr>\n",
       "      <th>75%</th>\n",
       "      <td>668.500000</td>\n",
       "      <td>1.000000</td>\n",
       "      <td>3.000000</td>\n",
       "      <td>38.000000</td>\n",
       "    </tr>\n",
       "    <tr>\n",
       "      <th>max</th>\n",
       "      <td>891.000000</td>\n",
       "      <td>1.000000</td>\n",
       "      <td>3.000000</td>\n",
       "      <td>80.000000</td>\n",
       "    </tr>\n",
       "  </tbody>\n",
       "</table>\n",
       "</div>"
      ],
      "text/plain": [
       "       PassengerId    Survived      Pclass         Age\n",
       "count   891.000000  891.000000  891.000000  714.000000\n",
       "mean    446.000000    0.383838    2.308642   29.699118\n",
       "std     257.353842    0.486592    0.836071   14.526497\n",
       "min       1.000000    0.000000    1.000000    0.420000\n",
       "25%     223.500000    0.000000    2.000000   20.125000\n",
       "50%     446.000000    0.000000    3.000000   28.000000\n",
       "75%     668.500000    1.000000    3.000000   38.000000\n",
       "max     891.000000    1.000000    3.000000   80.000000"
      ]
     },
     "execution_count": 467,
     "metadata": {},
     "output_type": "execute_result"
    }
   ],
   "source": [
    "titanic_data_new.describe()"
   ]
  },
  {
   "cell_type": "markdown",
   "metadata": {},
   "source": [
    "Notice that Mean is greater than the Median, which makes this Normal Distribution right skewed as we would see in our Visualization section."
   ]
  },
  {
   "cell_type": "code",
   "execution_count": 468,
   "metadata": {
    "collapsed": true,
    "scrolled": false
   },
   "outputs": [],
   "source": [
    "# Fills the Median value, 28 in all the rows that have Null values in the column, Age\n",
    "titanic_data_new['Age'].fillna(titanic_data_new['Age'].median(), inplace=True)"
   ]
  },
  {
   "cell_type": "code",
   "execution_count": 469,
   "metadata": {
    "scrolled": false
   },
   "outputs": [
    {
     "name": "stdout",
     "output_type": "stream",
     "text": [
      "<class 'pandas.core.frame.DataFrame'>\n",
      "RangeIndex: 891 entries, 0 to 890\n",
      "Data columns (total 6 columns):\n",
      "PassengerId    891 non-null int64\n",
      "Survived       891 non-null int64\n",
      "Pclass         891 non-null int64\n",
      "Sex            891 non-null object\n",
      "Age            891 non-null float64\n",
      "Embarked       889 non-null object\n",
      "dtypes: float64(1), int64(3), object(2)\n",
      "memory usage: 41.8+ KB\n"
     ]
    }
   ],
   "source": [
    "titanic_data_new.info()"
   ]
  },
  {
   "cell_type": "markdown",
   "metadata": {},
   "source": [
    "Now, we have filled in all the NULL values for the Age with Median age, which helps in our analysis rather than losing nearly 20% of the data.\n"
   ]
  },
  {
   "cell_type": "markdown",
   "metadata": {},
   "source": [
    "For understanding and reading the code, let us update the Embarkment stations to their actual names instead of representing them in their abbreviated letters.\n",
    "Let us start by checking if there are any other values other than the described 3 stations, C = Cherbourg; Q = Queenstown; S = Southampton"
   ]
  },
  {
   "cell_type": "code",
   "execution_count": 470,
   "metadata": {
    "scrolled": false
   },
   "outputs": [
    {
     "data": {
      "text/plain": [
       "array(['S', 'C', 'Q', nan], dtype=object)"
      ]
     },
     "execution_count": 470,
     "metadata": {},
     "output_type": "execute_result"
    }
   ],
   "source": [
    "def check_col_values(col): \n",
    "    \"\"\"Confirming if there are any unexpected Unique values.  \n",
    "    The method, unique() will check if the 'col' variable passed to the function 'check_col_values' has any value other than\n",
    "    S,C or Q.\n",
    "    This value is stored in 'col' which will be passed to the 'Embarked' column of our dataframe when the function is called.\n",
    "    It results in S, C, Q and nan.  nan is the null value or the missing data for that column\"\"\"\n",
    "    return titanic_data_new[col].unique() \n",
    "check_col_values(\"Embarked\") # confirms only Q, S, C in dataset"
   ]
  },
  {
   "cell_type": "markdown",
   "metadata": {},
   "source": [
    "We found nothing. So, let us update."
   ]
  },
  {
   "cell_type": "code",
   "execution_count": 471,
   "metadata": {
    "scrolled": false
   },
   "outputs": [
    {
     "data": {
      "text/html": [
       "<div>\n",
       "<style>\n",
       "    .dataframe thead tr:only-child th {\n",
       "        text-align: right;\n",
       "    }\n",
       "\n",
       "    .dataframe thead th {\n",
       "        text-align: left;\n",
       "    }\n",
       "\n",
       "    .dataframe tbody tr th {\n",
       "        vertical-align: top;\n",
       "    }\n",
       "</style>\n",
       "<table border=\"1\" class=\"dataframe\">\n",
       "  <thead>\n",
       "    <tr style=\"text-align: right;\">\n",
       "      <th></th>\n",
       "      <th>PassengerId</th>\n",
       "      <th>Survived</th>\n",
       "      <th>Pclass</th>\n",
       "      <th>Sex</th>\n",
       "      <th>Age</th>\n",
       "      <th>Embarked</th>\n",
       "    </tr>\n",
       "  </thead>\n",
       "  <tbody>\n",
       "    <tr>\n",
       "      <th>0</th>\n",
       "      <td>1</td>\n",
       "      <td>0</td>\n",
       "      <td>3</td>\n",
       "      <td>male</td>\n",
       "      <td>22.0</td>\n",
       "      <td>Southhampton</td>\n",
       "    </tr>\n",
       "    <tr>\n",
       "      <th>1</th>\n",
       "      <td>2</td>\n",
       "      <td>1</td>\n",
       "      <td>1</td>\n",
       "      <td>female</td>\n",
       "      <td>38.0</td>\n",
       "      <td>Cherbourg</td>\n",
       "    </tr>\n",
       "    <tr>\n",
       "      <th>2</th>\n",
       "      <td>3</td>\n",
       "      <td>1</td>\n",
       "      <td>3</td>\n",
       "      <td>female</td>\n",
       "      <td>26.0</td>\n",
       "      <td>Southhampton</td>\n",
       "    </tr>\n",
       "    <tr>\n",
       "      <th>3</th>\n",
       "      <td>4</td>\n",
       "      <td>1</td>\n",
       "      <td>1</td>\n",
       "      <td>female</td>\n",
       "      <td>35.0</td>\n",
       "      <td>Southhampton</td>\n",
       "    </tr>\n",
       "    <tr>\n",
       "      <th>4</th>\n",
       "      <td>5</td>\n",
       "      <td>0</td>\n",
       "      <td>3</td>\n",
       "      <td>male</td>\n",
       "      <td>35.0</td>\n",
       "      <td>Southhampton</td>\n",
       "    </tr>\n",
       "  </tbody>\n",
       "</table>\n",
       "</div>"
      ],
      "text/plain": [
       "   PassengerId  Survived  Pclass     Sex   Age      Embarked\n",
       "0            1         0       3    male  22.0  Southhampton\n",
       "1            2         1       1  female  38.0     Cherbourg\n",
       "2            3         1       3  female  26.0  Southhampton\n",
       "3            4         1       1  female  35.0  Southhampton\n",
       "4            5         0       3    male  35.0  Southhampton"
      ]
     },
     "execution_count": 471,
     "metadata": {},
     "output_type": "execute_result"
    }
   ],
   "source": [
    "def update_port_name(port):\n",
    "    \"\"\"This function updates the Full names of the ports replacing the letters representing them.\n",
    "    If-Else condition is used to make decissions of what need to be updated based on the result of the condition given.\"\"\"\n",
    "    if port == \"C\":\n",
    "        return \"Cherbourg\"\n",
    "    elif port == \"Q\":\n",
    "        return \"Queenstown\"\n",
    "    elif port == \"S\":\n",
    "        return \"Southhampton\"\n",
    "    else:\n",
    "        return port\n",
    "        \n",
    "titanic_data_new[\"Embarked\"] = titanic_data_new[\"Embarked\"].apply(update_port_name)\n",
    "titanic_data_new.head()"
   ]
  },
  {
   "cell_type": "markdown",
   "metadata": {},
   "source": [
    "### EXPLORATION and VISUALIZATION"
   ]
  },
  {
   "cell_type": "markdown",
   "metadata": {},
   "source": [
    "#### Q1. Did the crew abide by the common rule, \"Women and Children first\" while giving access to life boats in the sinking ship?"
   ]
  },
  {
   "cell_type": "markdown",
   "metadata": {},
   "source": [
    "#### In this section we will consider the following factors for our analysis, that we assume might have affected the survival ratio:\n",
    "*  1) Sex, using numpy we will check for value,'female' to determine if women were given priority to access life boats\n",
    "*  2) Age, we will code to figure out the number of children, and see if children were able to get access to the life boats prior to men. "
   ]
  },
  {
   "cell_type": "markdown",
   "metadata": {},
   "source": [
    "#### Exploring data with the variable, 'Survived' "
   ]
  },
  {
   "cell_type": "code",
   "execution_count": 472,
   "metadata": {
    "scrolled": false
   },
   "outputs": [
    {
     "name": "stdout",
     "output_type": "stream",
     "text": [
      "The TOTAL number of people who survived: 342\n"
     ]
    }
   ],
   "source": [
    "\"\"\"In the below code, the variable, 'people_to_survive' is printed with the sum of all the counts for Boolean Value '1' \n",
    "for column'Survived' along each row of the dataframe, 'titanic_data_new'.\n",
    "Use of the built-in method, Sum() here to take the count.  \n",
    "The format() method is used to print the result as an integer.  \"\"\"\n",
    "\n",
    "people_to_survive = titanic_data_new[titanic_data_new['Survived'] == True]['Survived'].sum()\n",
    "print ('The TOTAL number of people who survived: {}'.format(people_to_survive))"
   ]
  },
  {
   "cell_type": "code",
   "execution_count": 473,
   "metadata": {
    "scrolled": false
   },
   "outputs": [
    {
     "data": {
      "text/plain": [
       "<matplotlib.text.Text at 0x2a9fe726d30>"
      ]
     },
     "execution_count": 473,
     "metadata": {},
     "output_type": "execute_result"
    },
    {
     "data": {
      "image/png": "[encoded data removed]",
      "text/plain": [
       "<matplotlib.figure.Figure at 0x2a9fe7489e8>"
      ]
     },
     "metadata": {},
     "output_type": "display_data"
    }
   ],
   "source": [
    "def Survival_rate(num):\n",
    "    \"\"\"Using If-Else condition, the function returns a value Died for the input 0 and Survived for the input 1.\n",
    "    num is the variable used for input and returning the values.\"\"\"\n",
    "    if num == 0:\n",
    "        return \"Died\"\n",
    "    elif num == 1:\n",
    "        return \"Survived\"\n",
    "\n",
    "fig = plt.figure()# To plot\n",
    "fig.suptitle('Survivors Versus Dead Passengers',fontsize=14, fontweight='bold')# Printing the title for the plot\n",
    "\n",
    "ax = fig.add_subplot(111)#to adjust the allignment/margin of the title\n",
    "fig.subplots_adjust(top=0.65)\n",
    "\n",
    "\n",
    "num_survived = titanic_data_new[\"Survived\"].apply(Survival_rate).value_counts()# Use of function, Survival_rate\n",
    "\n",
    "\"\"\" The function is called for every row of the dataframe, titanic_data_new and checked for Column, Survived.\n",
    "The proxy for this column in our function is input variable, num.  \n",
    "The built-in method, value_counts is applied to the result of the Survival_rate function to get a total of all the Dead \n",
    "and Survived values.  \"\"\"\n",
    "\n",
    "num_survived.plot(kind=\"barh\", figsize=(15, 1), color=\"green\").set_xlabel(\"Number of Passengers\")"
   ]
  },
  {
   "cell_type": "markdown",
   "metadata": {},
   "source": [
    "The above plot represents the same. So we conclude that there were only about 38.38% of survivors!!"
   ]
  },
  {
   "cell_type": "markdown",
   "metadata": {},
   "source": [
    "#### Exploring the data with variable, 'Sex' "
   ]
  },
  {
   "cell_type": "markdown",
   "metadata": {},
   "source": [
    "Now, let us see the survival ratio of male and female regardless of age. Let us represent this in a plot to visualize this data."
   ]
  },
  {
   "cell_type": "code",
   "execution_count": 474,
   "metadata": {
    "scrolled": true
   },
   "outputs": [
    {
     "name": "stdout",
     "output_type": "stream",
     "text": [
      "Number of survivors:\n",
      " female    233\n",
      "male      109\n",
      "Name: Sex, dtype: int64\n",
      "\n",
      "Number of dead:\n",
      " male      468\n",
      "female     81\n",
      "Name: Sex, dtype: int64\n"
     ]
    },
    {
     "data": {
      "text/plain": [
       "<matplotlib.text.Text at 0x2a9fe7fd358>"
      ]
     },
     "execution_count": 474,
     "metadata": {},
     "output_type": "execute_result"
    },
    {
     "data": {
      "image/png": "[encoded data removed]",
      "text/plain": [
       "<matplotlib.figure.Figure at 0x2a9fe7484e0>"
      ]
     },
     "metadata": {},
     "output_type": "display_data"
    }
   ],
   "source": [
    "survived_sex = titanic_data_new[titanic_data_new['Survived']==1]['Sex'].value_counts()#to get the survived total for each sex\n",
    "dead_sex = titanic_data_new[titanic_data_new['Survived']==0]['Sex'].value_counts()#to get the dead total for each sex\n",
    "\n",
    "print ('Number of survivors:\\n',survived_sex)\n",
    "print ()# to get a line space\n",
    "print ('Number of dead:\\n',dead_sex)\n",
    "\n",
    "font = {'family': 'serif',\n",
    "        'color':  'darkblue',\n",
    "        'weight': 'normal',\n",
    "        'size': 16,\n",
    "        }# function to define the font used for displaying the Title of the Figure\n",
    "\n",
    "df = pd.DataFrame([survived_sex,dead_sex])\n",
    "df.index = ['Survived','Dead']\n",
    "df.plot(kind='bar',stacked=True, figsize=(15,8))\n",
    "\n",
    "plt.title(\"Suvival and Death count of Male and Female Passengers\",fontdict=font)"
   ]
  },
  {
   "cell_type": "markdown",
   "metadata": {
    "collapsed": true
   },
   "source": [
    "So, we see that the plot represents that more than 70% of the dead were male. So we can conclude that being women or females increased the chances of survival!! "
   ]
  },
  {
   "cell_type": "markdown",
   "metadata": {},
   "source": [
    "#### Exploring data with variable, 'Age'"
   ]
  },
  {
   "cell_type": "markdown",
   "metadata": {},
   "source": [
    "Now, let us see the distribution of Age among the passengers:\n",
    "\n",
    "Assumptions:\n",
    "-  We will have to make an assumption that the children are below the age of 12 years.\n",
    "-  We have filled the Median Value of the Ages from our data, i.e.,28 years for the missing values in column Age.\n"
   ]
  },
  {
   "cell_type": "code",
   "execution_count": 475,
   "metadata": {
    "scrolled": false
   },
   "outputs": [
    {
     "data": {
      "text/plain": [
       "<matplotlib.text.Text at 0x2a9fe8a7c18>"
      ]
     },
     "execution_count": 475,
     "metadata": {},
     "output_type": "execute_result"
    },
    {
     "data": {
      "image/png": "[encoded data removed]",
      "text/plain": [
       "<matplotlib.figure.Figure at 0x2a9fe762860>"
      ]
     },
     "metadata": {},
     "output_type": "display_data"
    }
   ],
   "source": [
    "titanic_data_new[\"Age\"].plot.hist(title=\"Distribution of Age\", bins=range(0, 100, 10), figsize=(15,8)).set_xlabel(\"Age in Years\",fontdict=font)\n",
    "plt.ylabel('Count of Passengers',fontdict=font)\n",
    "plt.title('Distribution of Age',fontdict=font)"
   ]
  },
  {
   "cell_type": "markdown",
   "metadata": {},
   "source": [
    "From the above visualization, which is a normal distribution, we know that most of the passengers were between the age 20 and 40 years. Also, the calculations below shows that the mean or the average age of the passengers is 29.36 years."
   ]
  },
  {
   "cell_type": "code",
   "execution_count": 476,
   "metadata": {
    "scrolled": false
   },
   "outputs": [
    {
     "data": {
      "text/html": [
       "<div>\n",
       "<style>\n",
       "    .dataframe thead tr:only-child th {\n",
       "        text-align: right;\n",
       "    }\n",
       "\n",
       "    .dataframe thead th {\n",
       "        text-align: left;\n",
       "    }\n",
       "\n",
       "    .dataframe tbody tr th {\n",
       "        vertical-align: top;\n",
       "    }\n",
       "</style>\n",
       "<table border=\"1\" class=\"dataframe\">\n",
       "  <thead>\n",
       "    <tr style=\"text-align: right;\">\n",
       "      <th></th>\n",
       "      <th>PassengerId</th>\n",
       "      <th>Survived</th>\n",
       "      <th>Pclass</th>\n",
       "      <th>Age</th>\n",
       "    </tr>\n",
       "  </thead>\n",
       "  <tbody>\n",
       "    <tr>\n",
       "      <th>count</th>\n",
       "      <td>891.000000</td>\n",
       "      <td>891.000000</td>\n",
       "      <td>891.000000</td>\n",
       "      <td>891.000000</td>\n",
       "    </tr>\n",
       "    <tr>\n",
       "      <th>mean</th>\n",
       "      <td>446.000000</td>\n",
       "      <td>0.383838</td>\n",
       "      <td>2.308642</td>\n",
       "      <td>29.361582</td>\n",
       "    </tr>\n",
       "    <tr>\n",
       "      <th>std</th>\n",
       "      <td>257.353842</td>\n",
       "      <td>0.486592</td>\n",
       "      <td>0.836071</td>\n",
       "      <td>13.019697</td>\n",
       "    </tr>\n",
       "    <tr>\n",
       "      <th>min</th>\n",
       "      <td>1.000000</td>\n",
       "      <td>0.000000</td>\n",
       "      <td>1.000000</td>\n",
       "      <td>0.420000</td>\n",
       "    </tr>\n",
       "    <tr>\n",
       "      <th>25%</th>\n",
       "      <td>223.500000</td>\n",
       "      <td>0.000000</td>\n",
       "      <td>2.000000</td>\n",
       "      <td>22.000000</td>\n",
       "    </tr>\n",
       "    <tr>\n",
       "      <th>50%</th>\n",
       "      <td>446.000000</td>\n",
       "      <td>0.000000</td>\n",
       "      <td>3.000000</td>\n",
       "      <td>28.000000</td>\n",
       "    </tr>\n",
       "    <tr>\n",
       "      <th>75%</th>\n",
       "      <td>668.500000</td>\n",
       "      <td>1.000000</td>\n",
       "      <td>3.000000</td>\n",
       "      <td>35.000000</td>\n",
       "    </tr>\n",
       "    <tr>\n",
       "      <th>max</th>\n",
       "      <td>891.000000</td>\n",
       "      <td>1.000000</td>\n",
       "      <td>3.000000</td>\n",
       "      <td>80.000000</td>\n",
       "    </tr>\n",
       "  </tbody>\n",
       "</table>\n",
       "</div>"
      ],
      "text/plain": [
       "       PassengerId    Survived      Pclass         Age\n",
       "count   891.000000  891.000000  891.000000  891.000000\n",
       "mean    446.000000    0.383838    2.308642   29.361582\n",
       "std     257.353842    0.486592    0.836071   13.019697\n",
       "min       1.000000    0.000000    1.000000    0.420000\n",
       "25%     223.500000    0.000000    2.000000   22.000000\n",
       "50%     446.000000    0.000000    3.000000   28.000000\n",
       "75%     668.500000    1.000000    3.000000   35.000000\n",
       "max     891.000000    1.000000    3.000000   80.000000"
      ]
     },
     "execution_count": 476,
     "metadata": {},
     "output_type": "execute_result"
    }
   ],
   "source": [
    "titanic_data_new.describe()"
   ]
  },
  {
   "cell_type": "markdown",
   "metadata": {},
   "source": [
    "Other interesting factors we discover from the above distribution:\n",
    "The youngest passenger is of age, 0.42 (infant of 4 months) and the oldest passenger's age is 80 years."
   ]
  },
  {
   "cell_type": "markdown",
   "metadata": {},
   "source": [
    "Now, let us consider visualizing the survived passengers versus the dead on the Age distribution."
   ]
  },
  {
   "cell_type": "code",
   "execution_count": 477,
   "metadata": {
    "scrolled": false
   },
   "outputs": [
    {
     "data": {
      "text/plain": [
       "<matplotlib.legend.Legend at 0x2a9fe8f2c50>"
      ]
     },
     "execution_count": 477,
     "metadata": {},
     "output_type": "execute_result"
    },
    {
     "data": {
      "image/png": "[encoded data removed]",
      "text/plain": [
       "<matplotlib.figure.Figure at 0x2a9fe8f2ef0>"
      ]
     },
     "metadata": {},
     "output_type": "display_data"
    }
   ],
   "source": [
    "figure = plt.figure(figsize=(15,8))\n",
    "plt.hist([titanic_data_new[titanic_data_new['Survived']==1]['Age'], titanic_data_new[titanic_data_new['Survived']==0]['Age']], stacked=True, color = ['g','r'],\n",
    "         bins = 30,label = ['Survived','Dead'])\n",
    "plt.xlabel('Age',fontdict=font)\n",
    "plt.ylabel('Number of Survivors',fontdict=font)\n",
    "plt.title('Age distribution of Survivors and Dead Passengers',fontdict=font)\n",
    "plt.legend()"
   ]
  },
  {
   "cell_type": "code",
   "execution_count": 478,
   "metadata": {},
   "outputs": [
    {
     "name": "stdout",
     "output_type": "stream",
     "text": [
      "The total number of children on board: 68\n",
      "The total number of adults on board: 822\n"
     ]
    }
   ],
   "source": [
    "#Separating children and adults\n",
    "children_onboard = titanic_data_new[titanic_data_new['Age'] < 12]['Age'].value_counts().sum()\n",
    "\"\"\"In the above calculation, the variable, 'children_onboard' stores the sum of the values for the Column, 'Age' that are less than 12. \"\"\"\n",
    "\n",
    "print ('The total number of children on board: {}'.format(children_onboard))# format() used to print value as a whole number\n",
    "\n",
    "Adults_onboard = titanic_data_new[titanic_data_new['Age'] > 12]['Age'].value_counts().sum()\n",
    "\"\"\"In the above calculation, the variable, 'Adults_onboard' stores the sum of the values for the Column, 'Age' that are greater than 12. \"\"\"\n",
    "\n",
    "print ('The total number of adults on board: {}'.format(Adults_onboard))# format() used to print value as a whole number"
   ]
  },
  {
   "cell_type": "markdown",
   "metadata": {},
   "source": [
    "If we separate the children from the rest of the passengers to get the count of surviving children versus surviving adults."
   ]
  },
  {
   "cell_type": "code",
   "execution_count": 479,
   "metadata": {
    "scrolled": true
   },
   "outputs": [
    {
     "name": "stdout",
     "output_type": "stream",
     "text": [
      "Agegroup  Survived\n",
      "Adult     0           520\n",
      "          1           302\n",
      "Child     0            29\n",
      "          1            39\n",
      "dtype: int64\n"
     ]
    },
    {
     "data": {
      "text/plain": [
       "<matplotlib.text.Text at 0x2a9fe725e10>"
      ]
     },
     "execution_count": 479,
     "metadata": {},
     "output_type": "execute_result"
    },
    {
     "data": {
      "image/png": "[encoded data removed]",
      "text/plain": [
       "<matplotlib.figure.Figure at 0x2a9fea23e48>"
      ]
     },
     "metadata": {},
     "output_type": "display_data"
    }
   ],
   "source": [
    "\"\"\"Using aliases to represent the data separated as child and adult by creating a new column Agegroup in the original dataframe\"\"\"\n",
    "\n",
    "titanic_data_new.loc[(titanic_data_new['Age'] < 12), 'Agegroup'] = 'Child'\n",
    "titanic_data_new.loc[(titanic_data_new['Age'] > 12), 'Agegroup'] = 'Adult'\n",
    "\n",
    "print (titanic_data_new.groupby(['Agegroup','Survived']).size())#usage of groupby() to print the data and the total in each classification\n",
    "\n",
    "g = sns.factorplot('Survived', col='Agegroup', data=titanic_data_new, kind='count', size=6, aspect=.3)\n",
    "\n",
    "g.fig.subplots_adjust(top=0.9)\n",
    "\n",
    "g.fig.suptitle('Survivors and Dead count of Adults versus Children',fontsize=14, fontweight='bold')"
   ]
  },
  {
   "cell_type": "markdown",
   "metadata": {},
   "source": [
    "From the above comparison, although the number of child passengers are lesser compared to the number of adult passengers, the survival rate is more for children than the survival rate for adults. \n",
    "\n",
    "39 out of 68 children survived where as only 302 out of 822 adults survived."
   ]
  },
  {
   "cell_type": "markdown",
   "metadata": {},
   "source": [
    "So yes, the answer for our first question is clear that more women and children survived for sure."
   ]
  },
  {
   "cell_type": "markdown",
   "metadata": {},
   "source": [
    "#### Q2. Did the First Class passengers use their socio-economical influence in getting access to the life boats prior to passengers of other classes"
   ]
  },
  {
   "cell_type": "markdown",
   "metadata": {},
   "source": [
    "#### Exploring data with variable, 'Pclass' "
   ]
  },
  {
   "cell_type": "markdown",
   "metadata": {},
   "source": [
    "Let us first visualize a graph of the distribution of all the passengers across Paseenger Classes."
   ]
  },
  {
   "cell_type": "code",
   "execution_count": 480,
   "metadata": {
    "scrolled": true
   },
   "outputs": [
    {
     "data": {
      "image/png": "[encoded data removed]",
      "text/plain": [
       "<matplotlib.figure.Figure at 0x2a9fe9b6f28>"
      ]
     },
     "metadata": {},
     "output_type": "display_data"
    }
   ],
   "source": [
    "# To plot the passengers onboard across each Passenger Class (Pclass) by count on Y-axis\n",
    "\n",
    "g = sns.factorplot('Pclass', data=titanic_data_new, kind='count',size=6, aspect=.8)\n",
    "g.set_ylabels(\"Count of passengers\")\n",
    "\n",
    "g.fig.subplots_adjust(top=0.9)\n",
    "g.fig.suptitle('Count of Passengers Onboard across 1st,2nd and 3rd classes',fontsize=14, fontweight='bold')\n",
    "g.add_legend();"
   ]
  },
  {
   "cell_type": "markdown",
   "metadata": {},
   "source": [
    "And the below calculations give us the data of the Survivors in each of these Passenger Classes:"
   ]
  },
  {
   "cell_type": "code",
   "execution_count": 481,
   "metadata": {
    "scrolled": true
   },
   "outputs": [
    {
     "name": "stdout",
     "output_type": "stream",
     "text": [
      "Pclass  Survived\n",
      "1       0            80\n",
      "        1           136\n",
      "2       0            97\n",
      "        1            87\n",
      "3       0           372\n",
      "        1           119\n",
      "dtype: int64\n"
     ]
    },
    {
     "data": {
      "text/plain": [
       "<matplotlib.text.Text at 0x2a9fe6f0780>"
      ]
     },
     "execution_count": 481,
     "metadata": {},
     "output_type": "execute_result"
    },
    {
     "data": {
      "image/png": "[encoded data removed]",
      "text/plain": [
       "<matplotlib.figure.Figure at 0x2a9fedd1c18>"
      ]
     },
     "metadata": {},
     "output_type": "display_data"
    }
   ],
   "source": [
    "Passengers_Class = titanic_data_new['Pclass'].value_counts()# getting count for each Pclass values, 1,2 and 3\n",
    "print (titanic_data_new.groupby(['Pclass','Survived']).size())#Printing the passengers grouped by their Pclass and the total count in each class.\n",
    "\n",
    "g= sns.factorplot('Pclass',order=[1,2,3], data=titanic_data_new, hue='Survived',kind='count',size=6, aspect=.9)\n",
    "g.despine(left=True)\n",
    "g.set_ylabels(\"count of passengers\")\n",
    "g.fig.subplots_adjust(top=0.9)\n",
    "g.fig.suptitle('Count of Survivors across 1st,2nd and 3rd classes',fontsize=14, fontweight='bold')"
   ]
  },
  {
   "cell_type": "markdown",
   "metadata": {},
   "source": [
    "From the above two visualizations we can say that, although there were more number of passengers travelling in the Lower class (Pclass 3) the maximum number of survivors were from the Upper class (Pclass 1)"
   ]
  },
  {
   "cell_type": "markdown",
   "metadata": {},
   "source": [
    "Let us now finally take a look at the data to see if women, children and the upper class had a better chance of survival, which is the goal of our first question in this analysis."
   ]
  },
  {
   "cell_type": "markdown",
   "metadata": {},
   "source": [
    "For this, we will first consider the distribution of passengers across classes. We will have to separate the passengers into Children or adults and adults into men and women. We will categorise children into one group regardless of their gender."
   ]
  },
  {
   "cell_type": "markdown",
   "metadata": {},
   "source": [
    "The below function will add a separate column, 'Age_group' into the dataframe, thus keeping the original dataframe unaltered.\n",
    "This column will hold the values: 'Men' or 'Women' if the return value is more than 12 and 'Child' if the return value is less than 12 years of age."
   ]
  },
  {
   "cell_type": "code",
   "execution_count": 482,
   "metadata": {
    "scrolled": false
   },
   "outputs": [],
   "source": [
    "def Passenger_Category(passenger):\n",
    "    \"\"\"The function will first check the value of Age, if it finds the value to be less than 12 \n",
    "    then return value of the passenger variable will be updated to child, else, the passenger variable will return the \n",
    "    value of the Sex, as male or female.\"\"\"\n",
    "    \n",
    "    age, sex = passenger\n",
    "\n",
    "    if age < 12:\n",
    "        return 'child'\n",
    "    else:\n",
    "        return sex\n",
    "\n",
    "\"\"\"A new column, 'Age_group' is created in the dataframe, titanic_data_new and updated with the return values of the above function. \"\"\"\n",
    "\n",
    "titanic_data_new['Age_group'] = titanic_data_new[['Age', 'Sex']].apply(Passenger_Category, axis=1) #This creates a new column"
   ]
  },
  {
   "cell_type": "code",
   "execution_count": 483,
   "metadata": {
    "scrolled": false
   },
   "outputs": [
    {
     "name": "stdout",
     "output_type": "stream",
     "text": [
      "Pclass  Age_group\n",
      "1       child          4\n",
      "        female        93\n",
      "        male         119\n",
      "2       child         17\n",
      "        female        68\n",
      "        male          99\n",
      "3       child         47\n",
      "        female       121\n",
      "        male         323\n",
      "dtype: int64\n"
     ]
    }
   ],
   "source": [
    "print (titanic_data_new.groupby(['Pclass','Age_group']).size())"
   ]
  },
  {
   "cell_type": "code",
   "execution_count": 484,
   "metadata": {
    "scrolled": true
   },
   "outputs": [
    {
     "data": {
      "text/plain": [
       "<matplotlib.text.Text at 0x2a9fce87048>"
      ]
     },
     "execution_count": 484,
     "metadata": {},
     "output_type": "execute_result"
    },
    {
     "data": {
      "image/png": "[encoded data removed]",
      "text/plain": [
       "<matplotlib.figure.Figure at 0x2a9feed0d30>"
      ]
     },
     "metadata": {},
     "output_type": "display_data"
    }
   ],
   "source": [
    "#Visualizing the count of male, female and children in classes, 1, 2 and 3 \n",
    "g= sns.factorplot('Pclass', order=[1,2,3], data=titanic_data_new, hue='Age_group', kind='count',size=6, aspect=.8,hue_order=['child','male','female'])\n",
    "g.despine(left=True)\n",
    "g.set_ylabels(\"count of passengers\")\n",
    "\n",
    "g.fig.subplots_adjust(top=0.9)\n",
    "g.fig.suptitle('Count of Male, Female and children Onboard across 1st,2nd and 3rd classes',fontsize=14, fontweight='bold')"
   ]
  },
  {
   "cell_type": "markdown",
   "metadata": {},
   "source": [
    "Now let us introduce the 'Survived' variable and have a visualization of survivors in each category of passengers across each class."
   ]
  },
  {
   "cell_type": "markdown",
   "metadata": {},
   "source": [
    "We will now have a subset of data with only survived passengers."
   ]
  },
  {
   "cell_type": "code",
   "execution_count": 485,
   "metadata": {
    "scrolled": true
   },
   "outputs": [
    {
     "data": {
      "text/plain": [
       "<matplotlib.text.Text at 0x2a9f5e54240>"
      ]
     },
     "execution_count": 485,
     "metadata": {},
     "output_type": "execute_result"
    },
    {
     "data": {
      "image/png": "[encoded data removed]",
      "text/plain": [
       "<matplotlib.figure.Figure at 0x2a9ff3d1748>"
      ]
     },
     "metadata": {},
     "output_type": "display_data"
    }
   ],
   "source": [
    "#Visualising the count of surviving male, female and children in class 1, 2 and 3\n",
    "Survival_data = (titanic_data_new[titanic_data_new[\"Survived\"]==1])\n",
    "\n",
    "Survival_data['Age_group'] = Survival_data[['Age', 'Sex']].apply(Passenger_Category, axis=1) #use of previously written function\n",
    "\n",
    "g= sns.factorplot('Pclass', order=[1,2,3], data=Survival_data, hue='Age_group', kind='count',size=6, aspect=.8,hue_order=['child','male','female'])\n",
    "g.despine(left=True)\n",
    "g.set_ylabels(\"Survived passengers\")\n",
    "\n",
    "g.fig.subplots_adjust(top=0.9)\n",
    "g.fig.suptitle('Count of Male, Female & Children who survived across 1st,2nd and 3rd classes',fontsize=14, fontweight='bold')"
   ]
  },
  {
   "cell_type": "code",
   "execution_count": 486,
   "metadata": {
    "scrolled": false
   },
   "outputs": [
    {
     "name": "stdout",
     "output_type": "stream",
     "text": [
      "Pclass  Age_group\n",
      "1       child         3\n",
      "        female       91\n",
      "        male         42\n",
      "2       child        17\n",
      "        female       62\n",
      "        male          8\n",
      "3       child        19\n",
      "        female       61\n",
      "        male         39\n",
      "dtype: int64\n"
     ]
    }
   ],
   "source": [
    "print (Survival_data.groupby(['Pclass','Age_group']).size())# Printing the survivors in groupd of male, female and children in 3 classes"
   ]
  },
  {
   "cell_type": "markdown",
   "metadata": {},
   "source": [
    "If we determine the proportion of survivors in each age group across the passenger classes, we can come to a conclusion on our question if there were more survivors in the first class than other two classes and if women and children had better chance of survival."
   ]
  },
  {
   "cell_type": "code",
   "execution_count": 487,
   "metadata": {
    "scrolled": true
   },
   "outputs": [
    {
     "name": "stdout",
     "output_type": "stream",
     "text": [
      "Pclass  Age_group\n",
      "1       child        0.75\n",
      "        female       0.98\n",
      "        male         0.35\n",
      "2       child         1.0\n",
      "        female       0.91\n",
      "        male         0.08\n",
      "3       child         0.4\n",
      "        female        0.5\n",
      "        male         0.12\n",
      "dtype: object\n"
     ]
    },
    {
     "data": {
      "text/plain": [
       "<matplotlib.text.Text at 0x2a9ff14de48>"
      ]
     },
     "execution_count": 487,
     "metadata": {},
     "output_type": "execute_result"
    },
    {
     "data": {
      "image/png": "[encoded data removed]",
      "text/plain": [
       "<matplotlib.figure.Figure at 0x2a9f5cc0828>"
      ]
     },
     "metadata": {},
     "output_type": "display_data"
    }
   ],
   "source": [
    "#Calculating and plotting the 'proportion' of survivors to total passengers grouping them by male, female and children and by classes 1,2 and 3\n",
    "\n",
    "Total_Passengers = (titanic_data_new.groupby(['Pclass','Age_group']).size())\n",
    "Survivors = (Survival_data.groupby(['Pclass','Age_group']).size())\n",
    "\n",
    "Survival_ratio = (Survivors/Total_Passengers).apply(lambda x: str(round(x, 2)))# Rounding the floating result to 2 decimal place\n",
    "\n",
    "print (Survival_ratio)\n",
    "\n",
    "Survival_ratio = Survival_ratio.reset_index()# Resetting the index as we grouped the data in previous step for calculating ratio.\n",
    "Survival_ratio.columns = ['Pclass', 'Age_group', 'SRatio']#creating new dataset\n",
    "\n",
    "Survival_ratio = Survival_ratio.apply(pd.to_numeric, errors='ignore')\n",
    "\"\"\"to_numeric to convert the argument to a numeric value and invalid parsing will return the input when error is set to ignore\"\"\"\n",
    "\n",
    "g= sns.factorplot('Pclass', 'SRatio',data=Survival_ratio, hue='Age_group',kind='bar',size=6, aspect=.8,hue_order=['child','male','female'])\n",
    "g.set_ylabels(\"Ratio Of Survivors\")\n",
    "\n",
    "g.fig.subplots_adjust(top=0.9)\n",
    "g.fig.suptitle('Ratio of Male, Female and children who Survived across 1st,2nd and 3rd classes',fontsize=14, fontweight='bold')"
   ]
  },
  {
   "cell_type": "markdown",
   "metadata": {},
   "source": [
    "It is now easier to say by looking at the ratios that survival rate of Women and Children is more than men in all the classes, besides the factor that there were more 1st class survivors."
   ]
  },
  {
   "cell_type": "markdown",
   "metadata": {},
   "source": [
    "#### Q3. Which class of people travelled and who survived from each region of Embarkment?"
   ]
  },
  {
   "cell_type": "markdown",
   "metadata": {},
   "source": [
    "Although we cannot say that the port of embarkment of a passenger would influence his/her survival chances in a sinking ship, we can surely calculate and visualize the data distribution as to how other factors effected the survival rates across Embarkment cities:Cherbourg, Queenstown and Southhampton."
   ]
  },
  {
   "cell_type": "markdown",
   "metadata": {},
   "source": [
    "As we had seen earlier in the data frame description that there were missing values for the Embarked column for two of the passengers, let us drop them from our analysis.\n"
   ]
  },
  {
   "cell_type": "code",
   "execution_count": 488,
   "metadata": {
    "scrolled": true
   },
   "outputs": [
    {
     "name": "stdout",
     "output_type": "stream",
     "text": [
      "<class 'pandas.core.frame.DataFrame'>\n",
      "Int64Index: 889 entries, 0 to 890\n",
      "Data columns (total 8 columns):\n",
      "PassengerId    889 non-null int64\n",
      "Survived       889 non-null int64\n",
      "Pclass         889 non-null int64\n",
      "Sex            889 non-null object\n",
      "Age            889 non-null float64\n",
      "Embarked       889 non-null object\n",
      "Agegroup       888 non-null object\n",
      "Age_group      889 non-null object\n",
      "dtypes: float64(1), int64(3), object(4)\n",
      "memory usage: 62.5+ KB\n"
     ]
    }
   ],
   "source": [
    "titanic_embarked_new = titanic_data_new.dropna(subset=['Embarked'])# Removing the rows that has NaN values for 'Embarked' column\n",
    "\n",
    "Survival_embarked_new = (titanic_embarked_new[titanic_embarked_new[\"Survived\"]==1])#Another dataset with only Survivors from the new  Cleaned  set of data\n",
    "titanic_embarked_new.info()\n"
   ]
  },
  {
   "cell_type": "markdown",
   "metadata": {},
   "source": [
    "Now we have a new data set, 'titanic_embarked_new' with only 889 passengers. "
   ]
  },
  {
   "cell_type": "markdown",
   "metadata": {},
   "source": [
    "Let us take a look at the passenger distribution across the port of embarkment."
   ]
  },
  {
   "cell_type": "code",
   "execution_count": 489,
   "metadata": {
    "scrolled": true
   },
   "outputs": [
    {
     "name": "stdout",
     "output_type": "stream",
     "text": [
      "Embarked      Pclass\n",
      "Cherbourg     1          85\n",
      "              2          17\n",
      "              3          66\n",
      "Queenstown    1           2\n",
      "              2           3\n",
      "              3          72\n",
      "Southhampton  1         127\n",
      "              2         164\n",
      "              3         353\n",
      "dtype: int64\n"
     ]
    }
   ],
   "source": [
    "print (titanic_embarked_new.groupby(['Embarked','Pclass']).size())"
   ]
  },
  {
   "cell_type": "code",
   "execution_count": 490,
   "metadata": {
    "scrolled": true
   },
   "outputs": [
    {
     "data": {
      "text/plain": [
       "<matplotlib.text.Text at 0x2a9fee5bbe0>"
      ]
     },
     "execution_count": 490,
     "metadata": {},
     "output_type": "execute_result"
    },
    {
     "data": {
      "image/png": "[encoded data removed]",
      "text/plain": [
       "<matplotlib.figure.Figure at 0x2a9fe8e8a90>"
      ]
     },
     "metadata": {},
     "output_type": "display_data"
    }
   ],
   "source": [
    "g = sns.factorplot('Embarked', order=['Cherbourg','Queenstown','Southhampton'], data=titanic_embarked_new, hue='Pclass', kind='count', hue_order=[1,2,3],size=6, aspect=.8)\n",
    "g.set_ylabels(\"Count of Passengers Aboard\")\n",
    "\n",
    "g.fig.subplots_adjust(top=0.9)\n",
    "g.fig.suptitle('Count of Passengers Onboard across 1st,2nd and 3rd classes from different Ports',fontsize=14, fontweight='bold')"
   ]
  },
  {
   "cell_type": "markdown",
   "metadata": {},
   "source": [
    "Clearly, we have more passengers who boarded the ship from Southhampton and majority of them were in the 3rd class.\n",
    "There are very few, infact, 2 and 3 passengers from the 1st and the 2nd class from Queenstown.\n",
    "\n",
    "Considering the population distribution, we can say that the 'ratio of 1st class passengers to other classes' in Cherbourg is more than the 'ratio of 1st class passengers to other classes' in the other two cities. \n",
    "We have already seen that the 1st class passengers had better survival chances on the whole population regardless of the port of Embarkment.\n",
    "Now let us see if this influenced more passengers from Cherbourg to survive than from other two cities."
   ]
  },
  {
   "cell_type": "markdown",
   "metadata": {},
   "source": [
    "Here is the Survival data from each class across all the port of Embarkments."
   ]
  },
  {
   "cell_type": "code",
   "execution_count": 491,
   "metadata": {
    "scrolled": true
   },
   "outputs": [
    {
     "name": "stdout",
     "output_type": "stream",
     "text": [
      "Embarked      Pclass\n",
      "Cherbourg     1         59\n",
      "              2          9\n",
      "              3         25\n",
      "Queenstown    1          1\n",
      "              2          2\n",
      "              3         27\n",
      "Southhampton  1         74\n",
      "              2         76\n",
      "              3         67\n",
      "dtype: int64\n"
     ]
    }
   ],
   "source": [
    "print (Survival_embarked_new.groupby(['Embarked','Pclass']).size())#Survived passengers count"
   ]
  },
  {
   "cell_type": "code",
   "execution_count": 492,
   "metadata": {
    "scrolled": true
   },
   "outputs": [
    {
     "data": {
      "text/plain": [
       "<matplotlib.text.Text at 0x2a9ff3c98d0>"
      ]
     },
     "execution_count": 492,
     "metadata": {},
     "output_type": "execute_result"
    },
    {
     "data": {
      "image/png": "[encoded data removed]",
      "text/plain": [
       "<matplotlib.figure.Figure at 0x2a9f68d9828>"
      ]
     },
     "metadata": {},
     "output_type": "display_data"
    }
   ],
   "source": [
    "g = sns.factorplot('Embarked', order=['Cherbourg','Queenstown','Southhampton'], data=Survival_embarked_new, hue='Pclass', kind='count', hue_order=[1,2,3],size=6, aspect=.8)\n",
    "g.set_ylabels(\"Count of Survivors\")\n",
    "g.fig.subplots_adjust(top=0.9)\n",
    "g.fig.suptitle('Count of Survivors across 1st,2nd and 3rd classes from different Ports',fontsize=14, fontweight='bold')"
   ]
  },
  {
   "cell_type": "markdown",
   "metadata": {},
   "source": [
    "Survived passengers from 1st class is comparatively more than other classes in Cherbourg. But in Southhampton, the split between 1st class and 2nd class survivors are nearly equal.\n",
    "\n",
    "However, if we consider the ratio of survivors it will be clear that the survivors from 1st class were more,"
   ]
  },
  {
   "cell_type": "code",
   "execution_count": 493,
   "metadata": {
    "scrolled": true
   },
   "outputs": [
    {
     "name": "stdout",
     "output_type": "stream",
     "text": [
      "Embarked      Pclass\n",
      "Cherbourg     1         0.69\n",
      "              2         0.53\n",
      "              3         0.38\n",
      "Queenstown    1          0.5\n",
      "              2         0.67\n",
      "              3         0.38\n",
      "Southhampton  1         0.58\n",
      "              2         0.46\n",
      "              3         0.19\n",
      "dtype: object\n"
     ]
    },
    {
     "data": {
      "text/plain": [
       "<matplotlib.text.Text at 0x2a9ff4785f8>"
      ]
     },
     "execution_count": 493,
     "metadata": {},
     "output_type": "execute_result"
    },
    {
     "data": {
      "image/png": "[encoded data removed]",
      "text/plain": [
       "<matplotlib.figure.Figure at 0x2a9fede7e80>"
      ]
     },
     "metadata": {},
     "output_type": "display_data"
    }
   ],
   "source": [
    "#Calculating the ratio of survivors in each class across each port of Embarkment\n",
    "Total_Embarked = (titanic_embarked_new.groupby(['Embarked','Pclass']).size())\n",
    "Survived_Embarked = (Survival_embarked_new.groupby(['Embarked','Pclass']).size())\n",
    "\n",
    "Survival_ratio = (Survived_Embarked/Total_Embarked).apply(lambda x: str(round(x, 2)))\n",
    "\n",
    "print (Survival_ratio)\n",
    "Survival_ratio = Survival_ratio.reset_index()\n",
    "Survival_ratio.columns = ['Embarked','Pclass','SERatio']\n",
    "Survival_ratio = Survival_ratio.apply(pd.to_numeric, errors='ignore')\n",
    "g= sns.factorplot('Embarked', 'SERatio',data=Survival_ratio, hue='Pclass',kind='bar',size=6, aspect=.8)\n",
    "g.set_ylabels(\"Ratio Of Survivors from each port of embarkment\")\n",
    "g.fig.subplots_adjust(top=0.9)\n",
    "g.fig.suptitle('Ratio of Survivors across 1st,2nd and 3rd classes from different Ports',fontsize=14, fontweight='bold')"
   ]
  },
  {
   "cell_type": "markdown",
   "metadata": {},
   "source": [
    "Yes, it mattered that, there were more 1st class passengers who embarked from Cherbourg, for more people from this city to survive!!\n",
    "\n",
    "At the same time, it is sad that many passengers from Southhampton in 3rd class could not get access to the life boats."
   ]
  },
  {
   "cell_type": "markdown",
   "metadata": {},
   "source": [
    "### Conclusion:"
   ]
  },
  {
   "cell_type": "markdown",
   "metadata": {},
   "source": [
    "With the above calculations and Visualizations we can conclude on the following:\n",
    "\n",
    "*  Women and Children had better survival chances compared to men in all the 'Passenger Classes'. \n",
    "\n",
    "*  The 1st class passengers fared a better chance of survival. \n",
    "\n",
    "*  There were more First class passengers from Cherbourg and more 3rd class passengers from Southhampton. There were hardly any first class and second class passengers from Queenstown making majority of the passengers boarding in 3rd class.\n",
    "Also, if we compare the passengers on board versus the survived passengers count, it is clear that, although the number of passengers who boarded from Cherbourg were less than Southhampton, the survivors were more which indicates that the 1st class passengers used their infulence to get to the life boats as their were more people from 1st class who embarked from Cherbourg.\n"
   ]
  },
  {
   "cell_type": "markdown",
   "metadata": {},
   "source": [
    "References:\n",
    "-  https://matplotlib.org/index.html \n",
    "-  https://seaborn.pydata.org/\n",
    "-  http://nbviewer.jupyter.org/github/Carreau/posts/blob/master/Blog1.ipynb\n",
    "-  https://stackoverflow.com/\n",
    "-  https://github.com/vivek2606/Udacity-Titanic-Data-Analysis/ (For using Median of 'Age' to fill the NaN data)"
   ]
  },
  {
   "cell_type": "markdown",
   "metadata": {},
   "source": [
    "#### Scope for more Analysis:"
   ]
  },
  {
   "cell_type": "markdown",
   "metadata": {},
   "source": [
    "-  Exploring the 'Title' or 'Ticket' variable to find the survival rate of the crew members to other passengers!!\n",
    "-  We could check if women travelling with children or mothers/sisters/nannies had better chances to survive.\n",
    "-  Explore the Fare distribution across age,sex and class\n",
    "-  Figure out if travelling families or single passengers survived more\n",
    "-  Exploring survival rates based on the cabin location"
   ]
  },
  {
   "cell_type": "markdown",
   "metadata": {
    "collapsed": true,
    "scrolled": false
   },
   "source": [
    "#### Limitations:"
   ]
  },
  {
   "cell_type": "markdown",
   "metadata": {},
   "source": [
    "*  Assumptions are made with respect to the Age of a child and missing data for as many as 20% of the rows.\n",
    "*  The health and ability of a person can also effect their chances of survival regardless of their age, sex, Pclass, Cabin etc.,\n",
    "*  It is not always neccessary that the correlations contribute to the causation. In this dataset, for example, the cabin location matters in calculating the survival rates. However, there could be chances of passengers from other cabins to have mixed up."
   ]
  },
  {
   "cell_type": "raw",
   "metadata": {
    "collapsed": true
   },
   "source": []
  }
 ],
 "metadata": {
  "kernelspec": {
   "display_name": "Python 3",
   "language": "python",
   "name": "python3"
  },
  "language_info": {
   "codemirror_mode": {
    "name": "ipython",
    "version": 3
   },
   "file_extension": ".py",
   "mimetype": "text/x-python",
   "name": "python",
   "nbconvert_exporter": "python",
   "pygments_lexer": "ipython3",
   "version": "3.6.1"
  }
 },
 "nbformat": 4,
 "nbformat_minor": 2
}
